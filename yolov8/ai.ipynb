{
 "cells": [
  {
   "cell_type": "code",
   "execution_count": 2,
   "metadata": {},
   "outputs": [],
   "source": [
    "from ultralytics import YOLO\n",
    "import tkinter as tk\n",
    "from PIL import Image, ImageTk, ImageDraw, ImageFont\n",
    "from functools import partial\n",
    "import time"
   ]
  },
  {
   "cell_type": "code",
   "execution_count": 2,
   "metadata": {},
   "outputs": [],
   "source": [
    "#model = YOLO(\"yolov8n.pt\")  # load an official model"
   ]
  },
  {
   "cell_type": "code",
   "execution_count": 3,
   "metadata": {},
   "outputs": [],
   "source": [
    "#results = model.train(data=\"C:\\VScode\\yolov8\\data.yaml\", epochs=2,workers=0)"
   ]
  },
  {
   "cell_type": "code",
   "execution_count": 3,
   "metadata": {},
   "outputs": [
    {
     "name": "stderr",
     "output_type": "stream",
     "text": [
      "<>:1: SyntaxWarning: invalid escape sequence '\\Y'\n",
      "<>:3: SyntaxWarning: invalid escape sequence '\\Y'\n",
      "<>:1: SyntaxWarning: invalid escape sequence '\\Y'\n",
      "<>:3: SyntaxWarning: invalid escape sequence '\\Y'\n",
      "C:\\Users\\luelu\\AppData\\Local\\Temp\\ipykernel_30700\\2845918988.py:1: SyntaxWarning: invalid escape sequence '\\Y'\n",
      "  model = YOLO(\"D:\\YOLOv8\\\\final_project\\yolov8\\\\runs\\detect\\\\train2\\weights\\\\best.pt\")\n",
      "C:\\Users\\luelu\\AppData\\Local\\Temp\\ipykernel_30700\\2845918988.py:3: SyntaxWarning: invalid escape sequence '\\Y'\n",
      "  results = model.predict(source=\"D:\\YOLOv8\\\\final_project\\yolov8\\malu1.jpg\", save=True)\n"
     ]
    },
    {
     "name": "stdout",
     "output_type": "stream",
     "text": [
      "\n",
      "image 1/1 D:\\YOLOv8\\final_project\\yolov8\\malu1.jpg: 448x640 6 persons, 124.3ms\n",
      "Speed: 2.0ms preprocess, 124.3ms inference, 807.9ms postprocess per image at shape (1, 3, 448, 640)\n",
      "Results saved to \u001b[1mruns\\detect\\predict9\u001b[0m\n"
     ]
    }
   ],
   "source": [
    "model = YOLO(\"D:\\YOLOv8\\\\final_project\\yolov8\\\\runs\\detect\\\\train2\\weights\\\\best.pt\")\n",
    "\n",
    "results = model.predict(source=\"D:\\YOLOv8\\\\final_project\\yolov8\\malu1.jpg\", save=True)"
   ]
  },
  {
   "cell_type": "code",
   "execution_count": 4,
   "metadata": {},
   "outputs": [],
   "source": [
    "for result in results:\n",
    "    persons = result.boxes\n",
    "persons=6"
   ]
  },
  {
   "cell_type": "code",
   "execution_count": 5,
   "metadata": {},
   "outputs": [
    {
     "name": "stderr",
     "output_type": "stream",
     "text": [
      "<>:4: SyntaxWarning: invalid escape sequence '\\Y'\n",
      "<>:4: SyntaxWarning: invalid escape sequence '\\m'\n",
      "<>:4: SyntaxWarning: invalid escape sequence '\\Y'\n",
      "<>:4: SyntaxWarning: invalid escape sequence '\\m'\n",
      "C:\\Users\\luelu\\AppData\\Local\\Temp\\ipykernel_30700\\4156308709.py:4: SyntaxWarning: invalid escape sequence '\\Y'\n",
      "  img = Image.open(\"D:\\YOLOv8\\\\final_project\\yolov8\\\\runs\\detect\\predict\"+str(i)+\"\\malu\"+str(i)+\".jpg\")\n",
      "C:\\Users\\luelu\\AppData\\Local\\Temp\\ipykernel_30700\\4156308709.py:4: SyntaxWarning: invalid escape sequence '\\m'\n",
      "  img = Image.open(\"D:\\YOLOv8\\\\final_project\\yolov8\\\\runs\\detect\\predict\"+str(i)+\"\\malu\"+str(i)+\".jpg\")\n"
     ]
    }
   ],
   "source": [
    "def predict(i):\n",
    "    global label_pre,tk_img,persons,a\n",
    "    a=[1,6]\n",
    "    img = Image.open(\"D:\\YOLOv8\\\\final_project\\yolov8\\\\runs\\detect\\predict\"+str(i)+\"\\malu\"+str(i)+\".jpg\")\n",
    "    tk_img = ImageTk.PhotoImage(img)\n",
    "    label_pre.config(image=tk_img)\n",
    "    persons = a[i%2]"
   ]
  },
  {
   "cell_type": "code",
   "execution_count": 6,
   "metadata": {},
   "outputs": [],
   "source": [
    "def get_person():\n",
    "    return str(persons)"
   ]
  },
  {
   "cell_type": "code",
   "execution_count": 14,
   "metadata": {},
   "outputs": [],
   "source": [
    "def get_second(state):\n",
    "    # to do--------------------------------------------------------------\n",
    "    if state == \"red\":\n",
    "        return \"2\"\n",
    "    elif state == \"green\":\n",
    "        if int(get_person()) > 5: \n",
    "            return \"6\"\n",
    "        else:\n",
    "            return \"3\""
   ]
  },
  {
   "cell_type": "code",
   "execution_count": 8,
   "metadata": {},
   "outputs": [],
   "source": [
    "def add():\n",
    "    global label2\n",
    "    state=\"green\"\n",
    "    test[\"state\"] = \"disable\"\n",
    "    label2 = tk.Label(text=\"預測人數:\" + get_person(), fg=\"red\", font=(\"Helvetica\", 30))\n",
    "    label2.place(x=100, y=350)\n",
    "    update_image_with_countdown(int(get_second(state)),state)\n"
   ]
  },
  {
   "cell_type": "code",
   "execution_count": 9,
   "metadata": {},
   "outputs": [],
   "source": [
    "def show_page(frame):\n",
    "    frame.tkraise()"
   ]
  },
  {
   "cell_type": "code",
   "execution_count": 10,
   "metadata": {},
   "outputs": [
    {
     "name": "stderr",
     "output_type": "stream",
     "text": [
      "<>:3: SyntaxWarning: invalid escape sequence '\\Y'\n",
      "<>:6: SyntaxWarning: invalid escape sequence '\\Y'\n",
      "<>:10: SyntaxWarning: invalid escape sequence '\\Y'\n",
      "<>:3: SyntaxWarning: invalid escape sequence '\\Y'\n",
      "<>:6: SyntaxWarning: invalid escape sequence '\\Y'\n",
      "<>:10: SyntaxWarning: invalid escape sequence '\\Y'\n",
      "C:\\Users\\luelu\\AppData\\Local\\Temp\\ipykernel_30700\\1767285068.py:3: SyntaxWarning: invalid escape sequence '\\Y'\n",
      "  font_path = \"D:\\YOLOv8\\\\final_project\\yolov8\\Seven Segment.ttf\"\n",
      "C:\\Users\\luelu\\AppData\\Local\\Temp\\ipykernel_30700\\1767285068.py:6: SyntaxWarning: invalid escape sequence '\\Y'\n",
      "  img2 = Image.open(\"D:\\YOLOv8\\\\final_project\\yolov8\\photo\\\\rd light_1.png\")\n",
      "C:\\Users\\luelu\\AppData\\Local\\Temp\\ipykernel_30700\\1767285068.py:10: SyntaxWarning: invalid escape sequence '\\Y'\n",
      "  img2 = Image.open(\"D:\\YOLOv8\\\\final_project\\yolov8\\photo\\\\rd light_2.png\")\n"
     ]
    }
   ],
   "source": [
    "def update_image_with_countdown(i,state):\n",
    "    global label1, tk_img2,label2,j\n",
    "    font_path = \"D:\\YOLOv8\\\\final_project\\yolov8\\Seven Segment.ttf\"\n",
    "\n",
    "    if state == \"red\":\n",
    "        img2 = Image.open(\"D:\\YOLOv8\\\\final_project\\yolov8\\photo\\\\rd light_1.png\")\n",
    "        rd_x,rd_y=(138,55)\n",
    "\n",
    "    else:\n",
    "        img2 = Image.open(\"D:\\YOLOv8\\\\final_project\\yolov8\\photo\\\\rd light_2.png\")\n",
    "        rd_x,rd_y=(138, 190)\n",
    "\n",
    "    draw = ImageDraw.Draw(img2)\n",
    "    font = ImageFont.truetype(font_path, 50)\n",
    "    draw.text((rd_x,rd_y), str(i), font=font, fill=state)\n",
    "    tk_img2 = ImageTk.PhotoImage(img2)\n",
    "    label1.config(image=tk_img2)\n",
    "\n",
    "    if i > 1:\n",
    "        window.after(1000, update_image_with_countdown,  i - 1, state)  # 1000ms\n",
    "        \n",
    "\n",
    "    else:\n",
    "        # print(currentState)\n",
    "        label2.config(text=\"\")\n",
    "        new_state = \"green\" if state == \"red\" else \"red\"\n",
    "        if state==\"red\":\n",
    "            j+=1\n",
    "            predict(j%2+1)\n",
    "            label2.config(text=\"預測人數:\" + get_person())\n",
    "            alert_sys()\n",
    "        window.after(1000, update_image_with_countdown, int(get_second(new_state)), new_state)\n",
    "        #test[\"state\"] = \"normal\"  # 恢復按鈕,不讓使用者一直按\n"
   ]
  },
  {
   "cell_type": "code",
   "execution_count": 11,
   "metadata": {},
   "outputs": [],
   "source": [
    "#警示系統\n",
    "def alert_sys():\n",
    "    if int(get_person()) > 5:\n",
    "        show_alert_image(10)"
   ]
  },
  {
   "cell_type": "code",
   "execution_count": 12,
   "metadata": {},
   "outputs": [
    {
     "name": "stderr",
     "output_type": "stream",
     "text": [
      "<>:6: SyntaxWarning: invalid escape sequence '\\Y'\n",
      "<>:8: SyntaxWarning: invalid escape sequence '\\Y'\n",
      "<>:6: SyntaxWarning: invalid escape sequence '\\Y'\n",
      "<>:8: SyntaxWarning: invalid escape sequence '\\Y'\n",
      "C:\\Users\\luelu\\AppData\\Local\\Temp\\ipykernel_30700\\207417174.py:6: SyntaxWarning: invalid escape sequence '\\Y'\n",
      "  img = Image.open(\"D:\\YOLOv8\\\\final_project\\yolov8\\photo\\y light_2.png\")\n",
      "C:\\Users\\luelu\\AppData\\Local\\Temp\\ipykernel_30700\\207417174.py:8: SyntaxWarning: invalid escape sequence '\\Y'\n",
      "  img = Image.open(\"D:\\YOLOv8\\\\final_project\\yolov8\\photo\\y light_1.png\")\n"
     ]
    }
   ],
   "source": [
    "def show_alert_image(repetitions):\n",
    "    global label_light\n",
    "\n",
    "    if repetitions > 0:\n",
    "        if repetitions % 2 == 0:\n",
    "            img = Image.open(\"D:\\YOLOv8\\\\final_project\\yolov8\\photo\\y light_2.png\")\n",
    "        else:\n",
    "            img = Image.open(\"D:\\YOLOv8\\\\final_project\\yolov8\\photo\\y light_1.png\")\n",
    "        tk_img = ImageTk.PhotoImage(img)\n",
    "        label_light.config(image=tk_img)\n",
    "        label_light.image = tk_img  \n",
    "        window.after(200, show_alert_image, repetitions - 1)\n",
    "    else:\n",
    "        label_light.config(image='')"
   ]
  },
  {
   "cell_type": "code",
   "execution_count": 15,
   "metadata": {},
   "outputs": [
    {
     "name": "stderr",
     "output_type": "stream",
     "text": [
      "<>:13: SyntaxWarning: invalid escape sequence '\\Y'\n",
      "<>:20: SyntaxWarning: invalid escape sequence '\\Y'\n",
      "<>:25: SyntaxWarning: invalid escape sequence '\\Y'\n",
      "<>:13: SyntaxWarning: invalid escape sequence '\\Y'\n",
      "<>:20: SyntaxWarning: invalid escape sequence '\\Y'\n",
      "<>:25: SyntaxWarning: invalid escape sequence '\\Y'\n",
      "C:\\Users\\luelu\\AppData\\Local\\Temp\\ipykernel_30700\\4119792930.py:13: SyntaxWarning: invalid escape sequence '\\Y'\n",
      "  Button_img = Image.open(\"D:\\YOLOv8\\\\final_project\\yolov8\\photo\\\\button.jpg\")\n",
      "C:\\Users\\luelu\\AppData\\Local\\Temp\\ipykernel_30700\\4119792930.py:20: SyntaxWarning: invalid escape sequence '\\Y'\n",
      "  img = Image.open(\"D:\\YOLOv8\\\\final_project\\yolov8\\\\runs\\detect\\predict1\\malu1.jpg\")  # 開啟圖片\n",
      "C:\\Users\\luelu\\AppData\\Local\\Temp\\ipykernel_30700\\4119792930.py:25: SyntaxWarning: invalid escape sequence '\\Y'\n",
      "  img1 = Image.open(\"D:\\YOLOv8\\\\final_project\\yolov8\\photo\\\\rd light_1.png\")  # 開啟圖片\n"
     ]
    }
   ],
   "source": [
    "window = tk.Tk()\n",
    "window.title(\"AI\")\n",
    "window.geometry(\"900x500\")\n",
    "window.resizable(False, False)\n",
    "# 創建兩個頁面\n",
    "page1 = tk.Frame(window)\n",
    "page2 = tk.Frame(window)\n",
    "\n",
    "for frame in (page1, page2):\n",
    "    frame.place(x=0, y=0, width=900, height=500)\n",
    "\n",
    "# 頁面1內容\n",
    "Button_img = Image.open(\"D:\\YOLOv8\\\\final_project\\yolov8\\photo\\\\button.jpg\")\n",
    "button_img = ImageTk.PhotoImage(Button_img)\n",
    "test = tk.Button(\n",
    "    page1, image=button_img, command=add, borderwidth=0, highlightthickness=0\n",
    ")\n",
    "test.place(x=600, y=350)\n",
    "\n",
    "img = Image.open(\"D:\\YOLOv8\\\\final_project\\yolov8\\\\runs\\detect\\predict1\\malu1.jpg\")  # 開啟圖片\n",
    "tk_img = ImageTk.PhotoImage(img)  # 轉換為 tk 圖片物件\n",
    "label_pre = tk.Label(page1, image=tk_img)  # 在 Label 中放入圖片\n",
    "label_pre.place(x=50, y=40)\n",
    "\n",
    "img1 = Image.open(\"D:\\YOLOv8\\\\final_project\\yolov8\\photo\\\\rd light_1.png\")  # 開啟圖片\n",
    "tk_img1 = ImageTk.PhotoImage(img1)\n",
    "label1 = tk.Label(page1, image=tk_img1)  # 在 Label 中放入圖片\n",
    "label1.place(x=550, y=30)\n",
    "\n",
    "label_light = tk.Label(page1) \n",
    "label_light.place(x=400, y=350)\n",
    "label2=None\n",
    "j=0\n",
    "# 添加頁面切換按鈕\n",
    "#switch_to_page2_btn = tk.Button(\n",
    "#    page1, text=\"警示系統\", command=lambda: show_page(page2)\n",
    "#)\n",
    "#switch_to_page2_btn.place(x=1, y=1)\n",
    "\n",
    "# 頁面2內容\n",
    "\n",
    "# 添加頁面切換按鈕\n",
    "#switch_to_page1_btn = tk.Button(\n",
    "#    page2, text=\"紅綠燈系統\", command=lambda: show_page(page1)\n",
    "#)\n",
    "#switch_to_page1_btn.place(x=1, y=1)\n",
    "\n",
    "# 顯示初始頁面\n",
    "show_page(page1)\n",
    "# second = 10\n",
    "# window.after(1000, update_image_with_countdown, 10 - 1)#1000ms\n",
    "# 開始主循環\n",
    "window.mainloop()"
   ]
  },
  {
   "cell_type": "code",
   "execution_count": null,
   "metadata": {},
   "outputs": [],
   "source": []
  }
 ],
 "metadata": {
  "kernelspec": {
   "display_name": "pytorch",
   "language": "python",
   "name": "python3"
  },
  "language_info": {
   "codemirror_mode": {
    "name": "ipython",
    "version": 3
   },
   "file_extension": ".py",
   "mimetype": "text/x-python",
   "name": "python",
   "nbconvert_exporter": "python",
   "pygments_lexer": "ipython3",
   "version": "3.12.3"
  }
 },
 "nbformat": 4,
 "nbformat_minor": 2
}
